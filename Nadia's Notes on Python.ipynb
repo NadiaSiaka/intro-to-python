{
 "cells": [
  {
   "cell_type": "markdown",
   "id": "a089fe86",
   "metadata": {},
   "source": [
    "I. Python basics"
   ]
  },
  {
   "cell_type": "code",
   "execution_count": 1,
   "id": "82943272",
   "metadata": {},
   "outputs": [
    {
     "name": "stdout",
     "output_type": "stream",
     "text": [
      "the year the company was established is 1996\n"
     ]
    }
   ],
   "source": [
    "print('the year the company was established is 1996')"
   ]
  },
  {
   "cell_type": "code",
   "execution_count": 2,
   "id": "d32ba7e8",
   "metadata": {},
   "outputs": [
    {
     "name": "stdout",
     "output_type": "stream",
     "text": [
      "the year the company was established is 1996\n"
     ]
    }
   ],
   "source": [
    "print('the year the company was established is', 1996)"
   ]
  },
  {
   "cell_type": "code",
   "execution_count": 3,
   "id": "1026c128",
   "metadata": {},
   "outputs": [
    {
     "name": "stdout",
     "output_type": "stream",
     "text": [
      "My name is Nadia and I am 26 years old\n"
     ]
    }
   ],
   "source": [
    "print('My name is Nadia and I am', 26, 'years old')"
   ]
  },
  {
   "cell_type": "code",
   "execution_count": 4,
   "id": "5970918f",
   "metadata": {},
   "outputs": [
    {
     "name": "stdout",
     "output_type": "stream",
     "text": [
      "My name is Nadia, and I am 26 years old\n"
     ]
    }
   ],
   "source": [
    "print('My name is Nadia, and I am 26 years old')"
   ]
  },
  {
   "cell_type": "code",
   "execution_count": 21,
   "id": "a21581f7",
   "metadata": {},
   "outputs": [
    {
     "name": "stdout",
     "output_type": "stream",
     "text": [
      "Her name is Nadia\n"
     ]
    }
   ],
   "source": [
    "person_name ='Nadia' #a variable should be clearly understandanble by someone else other than me, contains only alpha numeric character (A-Z, a-z, 0-9), is case sensitive, and must not start with a number, and must only contain _\n",
    "print('Her name is', person_name)"
   ]
  },
  {
   "cell_type": "code",
   "execution_count": 13,
   "id": "893705f5",
   "metadata": {},
   "outputs": [
    {
     "name": "stdout",
     "output_type": "stream",
     "text": [
      "The name of the company is Car Sons Ltd.\n"
     ]
    }
   ],
   "source": [
    "company_name='Car Sons Ltd.' #text or string must always be stored within quotes, single or double\n",
    "print('The name of the company is', company_name)"
   ]
  },
  {
   "cell_type": "code",
   "execution_count": 14,
   "id": "5dd2e6bb",
   "metadata": {},
   "outputs": [
    {
     "name": "stdout",
     "output_type": "stream",
     "text": [
      "Nadia is born in 1992\n"
     ]
    }
   ],
   "source": [
    "year_born=1992 #numeric such as numbers and decimals should be stored without quotes. otherwise it will be interpreted as a string/text\n",
    "print('Nadia is born in',year_born)"
   ]
  },
  {
   "cell_type": "code",
   "execution_count": 15,
   "id": "2cb04432",
   "metadata": {},
   "outputs": [
    {
     "data": {
      "text/plain": [
       "1992"
      ]
     },
     "execution_count": 15,
     "metadata": {},
     "output_type": "execute_result"
    }
   ],
   "source": [
    "year_born"
   ]
  },
  {
   "cell_type": "code",
   "execution_count": 16,
   "id": "9ea2bf88",
   "metadata": {},
   "outputs": [
    {
     "data": {
      "text/plain": [
       "'Car Sons Ltd.'"
      ]
     },
     "execution_count": 16,
     "metadata": {},
     "output_type": "execute_result"
    }
   ],
   "source": [
    "company_name"
   ]
  },
  {
   "cell_type": "code",
   "execution_count": 20,
   "id": "f119b991",
   "metadata": {},
   "outputs": [
    {
     "data": {
      "text/plain": [
       "'Nadia'"
      ]
     },
     "execution_count": 20,
     "metadata": {},
     "output_type": "execute_result"
    }
   ],
   "source": [
    "person_name"
   ]
  },
  {
   "cell_type": "code",
   "execution_count": 29,
   "id": "081e58b5",
   "metadata": {},
   "outputs": [],
   "source": [
    "x = y = z = 10 #it is possible to define multiple variables in only 1 line of code instead of 3 lines"
   ]
  },
  {
   "cell_type": "code",
   "execution_count": 30,
   "id": "6daa3383",
   "metadata": {},
   "outputs": [
    {
     "data": {
      "text/plain": [
       "10"
      ]
     },
     "execution_count": 30,
     "metadata": {},
     "output_type": "execute_result"
    }
   ],
   "source": [
    "x"
   ]
  },
  {
   "cell_type": "code",
   "execution_count": 31,
   "id": "5025f1d5",
   "metadata": {},
   "outputs": [
    {
     "data": {
      "text/plain": [
       "10"
      ]
     },
     "execution_count": 31,
     "metadata": {},
     "output_type": "execute_result"
    }
   ],
   "source": [
    "y"
   ]
  },
  {
   "cell_type": "code",
   "execution_count": 32,
   "id": "d4333990",
   "metadata": {},
   "outputs": [
    {
     "data": {
      "text/plain": [
       "10"
      ]
     },
     "execution_count": 32,
     "metadata": {},
     "output_type": "execute_result"
    }
   ],
   "source": [
    "z"
   ]
  },
  {
   "cell_type": "code",
   "execution_count": 33,
   "id": "7778e381",
   "metadata": {},
   "outputs": [],
   "source": [
    "a='Nadia'"
   ]
  },
  {
   "cell_type": "code",
   "execution_count": 34,
   "id": "b065bfb2",
   "metadata": {},
   "outputs": [
    {
     "data": {
      "text/plain": [
       "'Nadia'"
      ]
     },
     "execution_count": 34,
     "metadata": {},
     "output_type": "execute_result"
    }
   ],
   "source": [
    "a"
   ]
  },
  {
   "cell_type": "code",
   "execution_count": 3,
   "id": "86879cbf",
   "metadata": {},
   "outputs": [],
   "source": [
    "a,b,c = 4, 5, 'Nadia' #it is possible to define multiple variables in only 1 line of code instead of 3 lines"
   ]
  },
  {
   "cell_type": "code",
   "execution_count": 36,
   "id": "59bbc7be",
   "metadata": {},
   "outputs": [
    {
     "data": {
      "text/plain": [
       "4"
      ]
     },
     "execution_count": 36,
     "metadata": {},
     "output_type": "execute_result"
    }
   ],
   "source": [
    "a"
   ]
  },
  {
   "cell_type": "code",
   "execution_count": 37,
   "id": "85abc2c5",
   "metadata": {},
   "outputs": [
    {
     "data": {
      "text/plain": [
       "5"
      ]
     },
     "execution_count": 37,
     "metadata": {},
     "output_type": "execute_result"
    }
   ],
   "source": [
    "b"
   ]
  },
  {
   "cell_type": "code",
   "execution_count": 38,
   "id": "4bc4c093",
   "metadata": {},
   "outputs": [
    {
     "data": {
      "text/plain": [
       "'Nadia'"
      ]
     },
     "execution_count": 38,
     "metadata": {},
     "output_type": "execute_result"
    }
   ],
   "source": [
    "c"
   ]
  },
  {
   "cell_type": "code",
   "execution_count": 39,
   "id": "5f8cdf74",
   "metadata": {},
   "outputs": [
    {
     "data": {
      "text/plain": [
       "'Nadia'"
      ]
     },
     "execution_count": 39,
     "metadata": {},
     "output_type": "execute_result"
    }
   ],
   "source": [
    "a\n",
    "b\n",
    "c #but if we run multiple variables in the same cell of code instead of 3 separate cells, it will only give the output of the last line of code within the cell"
   ]
  },
  {
   "cell_type": "code",
   "execution_count": 4,
   "id": "4dce4e35",
   "metadata": {},
   "outputs": [
    {
     "name": "stdout",
     "output_type": "stream",
     "text": [
      "a= 4\n",
      "b= 5\n",
      "c= Nadia\n"
     ]
    }
   ],
   "source": [
    "print('a=',a)\n",
    "print('b=',b)\n",
    "print('c=',c) #however, whenver there is a \"print\" statement before every line of code, it will give all the outputs of all the lines of code"
   ]
  },
  {
   "cell_type": "code",
   "execution_count": 40,
   "id": "be2be749",
   "metadata": {},
   "outputs": [
    {
     "data": {
      "text/plain": [
       "int"
      ]
     },
     "execution_count": 40,
     "metadata": {},
     "output_type": "execute_result"
    }
   ],
   "source": [
    "type(a) #this function helps me determine the type of variable I have. a number (integer or float)"
   ]
  },
  {
   "cell_type": "code",
   "execution_count": 41,
   "id": "16ed9de8",
   "metadata": {},
   "outputs": [
    {
     "data": {
      "text/plain": [
       "str"
      ]
     },
     "execution_count": 41,
     "metadata": {},
     "output_type": "execute_result"
    }
   ],
   "source": [
    "type(c) #this function helps me determine the type of variable I have. a string (text or character)"
   ]
  },
  {
   "cell_type": "code",
   "execution_count": 42,
   "id": "e5c42ddb",
   "metadata": {},
   "outputs": [],
   "source": [
    "a=-5 #this number is an integer\n",
    "b=12.5 #this number is a float"
   ]
  },
  {
   "cell_type": "code",
   "execution_count": 43,
   "id": "9b1165a0",
   "metadata": {},
   "outputs": [
    {
     "data": {
      "text/plain": [
       "int"
      ]
     },
     "execution_count": 43,
     "metadata": {},
     "output_type": "execute_result"
    }
   ],
   "source": [
    "type(a)"
   ]
  },
  {
   "cell_type": "code",
   "execution_count": 44,
   "id": "22f17c0b",
   "metadata": {},
   "outputs": [
    {
     "data": {
      "text/plain": [
       "float"
      ]
     },
     "execution_count": 44,
     "metadata": {},
     "output_type": "execute_result"
    }
   ],
   "source": [
    "type(b)"
   ]
  },
  {
   "cell_type": "code",
   "execution_count": 12,
   "id": "5a6a4fec",
   "metadata": {},
   "outputs": [
    {
     "name": "stdout",
     "output_type": "stream",
     "text": [
      "a= <class 'int'>\n",
      "b= <class 'float'>\n",
      "c= <class 'str'>\n"
     ]
    }
   ],
   "source": [
    "print('a=',type(-5))\n",
    "print('b=',type(12.5))\n",
    "print('c=',type('Nadia'))"
   ]
  },
  {
   "cell_type": "code",
   "execution_count": 45,
   "id": "c2c1dfea",
   "metadata": {},
   "outputs": [],
   "source": [
    "x=3+4j #this is a complex function or number"
   ]
  },
  {
   "cell_type": "code",
   "execution_count": 46,
   "id": "8dda7c3c",
   "metadata": {},
   "outputs": [
    {
     "data": {
      "text/plain": [
       "(3+4j)"
      ]
     },
     "execution_count": 46,
     "metadata": {},
     "output_type": "execute_result"
    }
   ],
   "source": [
    "x"
   ]
  },
  {
   "cell_type": "code",
   "execution_count": 47,
   "id": "7c254df0",
   "metadata": {},
   "outputs": [
    {
     "data": {
      "text/plain": [
       "complex"
      ]
     },
     "execution_count": 47,
     "metadata": {},
     "output_type": "execute_result"
    }
   ],
   "source": [
    "type(x)"
   ]
  },
  {
   "cell_type": "code",
   "execution_count": 48,
   "id": "6934cbe7",
   "metadata": {},
   "outputs": [
    {
     "data": {
      "text/plain": [
       "str"
      ]
     },
     "execution_count": 48,
     "metadata": {},
     "output_type": "execute_result"
    }
   ],
   "source": [
    "type(person_name)"
   ]
  },
  {
   "cell_type": "code",
   "execution_count": 19,
   "id": "3d0b4634",
   "metadata": {},
   "outputs": [],
   "source": [
    "a='Nadia'\n",
    "b='Toguem'\n",
    "c=a+b #the sign ''+'' allows concatenation of 2 strings\n",
    "d=a*10 #the sign ''*'' allows repetition or multiplication of the string 10 times"
   ]
  },
  {
   "cell_type": "code",
   "execution_count": 57,
   "id": "cf203369",
   "metadata": {},
   "outputs": [
    {
     "data": {
      "text/plain": [
       "'NadiaToguem'"
      ]
     },
     "execution_count": 57,
     "metadata": {},
     "output_type": "execute_result"
    }
   ],
   "source": [
    "c"
   ]
  },
  {
   "cell_type": "code",
   "execution_count": 59,
   "id": "1640547c",
   "metadata": {},
   "outputs": [
    {
     "data": {
      "text/plain": [
       "'NadiaNadiaNadiaNadiaNadiaNadiaNadiaNadiaNadiaNadia'"
      ]
     },
     "execution_count": 59,
     "metadata": {},
     "output_type": "execute_result"
    }
   ],
   "source": [
    "d"
   ]
  },
  {
   "cell_type": "code",
   "execution_count": 60,
   "id": "459e087d",
   "metadata": {},
   "outputs": [
    {
     "data": {
      "text/plain": [
       "'NadiaNadiaNadiaNadiaNadiaNadiaNadiaNadiaNadiaNadia'"
      ]
     },
     "execution_count": 60,
     "metadata": {},
     "output_type": "execute_result"
    }
   ],
   "source": [
    "a*10 #the sign ''*'' allows repetition or multiplication of the string 10 times"
   ]
  },
  {
   "cell_type": "code",
   "execution_count": 61,
   "id": "b8bc3c0a",
   "metadata": {},
   "outputs": [
    {
     "data": {
      "text/plain": [
       "'NadiaNadia'"
      ]
     },
     "execution_count": 61,
     "metadata": {},
     "output_type": "execute_result"
    }
   ],
   "source": [
    "a+a #the sign ''+'' allows concatenation of 2 strings"
   ]
  },
  {
   "cell_type": "code",
   "execution_count": 35,
   "id": "09faa17c",
   "metadata": {},
   "outputs": [
    {
     "name": "stdout",
     "output_type": "stream",
     "text": [
      "Je mappelleNadiaToguem et je suis belle\n"
     ]
    }
   ],
   "source": [
    "print('Je mappelle' +a +b,'et je suis belle')"
   ]
  },
  {
   "cell_type": "code",
   "execution_count": 62,
   "id": "7d128a37",
   "metadata": {},
   "outputs": [
    {
     "data": {
      "text/plain": [
       "'Nadia'"
      ]
     },
     "execution_count": 62,
     "metadata": {},
     "output_type": "execute_result"
    }
   ],
   "source": [
    "a[0:5] #this is an index"
   ]
  },
  {
   "cell_type": "code",
   "execution_count": 63,
   "id": "d845b13d",
   "metadata": {},
   "outputs": [
    {
     "data": {
      "text/plain": [
       "'d'"
      ]
     },
     "execution_count": 63,
     "metadata": {},
     "output_type": "execute_result"
    }
   ],
   "source": [
    "a[2]"
   ]
  },
  {
   "cell_type": "code",
   "execution_count": 64,
   "id": "26dcd7a0",
   "metadata": {},
   "outputs": [
    {
     "data": {
      "text/plain": [
       "'i'"
      ]
     },
     "execution_count": 64,
     "metadata": {},
     "output_type": "execute_result"
    }
   ],
   "source": [
    "a[-2]"
   ]
  },
  {
   "cell_type": "code",
   "execution_count": 65,
   "id": "2cbb033f",
   "metadata": {},
   "outputs": [
    {
     "data": {
      "text/plain": [
       "'N'"
      ]
     },
     "execution_count": 65,
     "metadata": {},
     "output_type": "execute_result"
    }
   ],
   "source": [
    "a[0]"
   ]
  },
  {
   "cell_type": "code",
   "execution_count": 66,
   "id": "0aa158cc",
   "metadata": {},
   "outputs": [
    {
     "data": {
      "text/plain": [
       "'a'"
      ]
     },
     "execution_count": 66,
     "metadata": {},
     "output_type": "execute_result"
    }
   ],
   "source": [
    "a[1]"
   ]
  },
  {
   "cell_type": "code",
   "execution_count": 67,
   "id": "611bedfa",
   "metadata": {},
   "outputs": [
    {
     "data": {
      "text/plain": [
       "'a'"
      ]
     },
     "execution_count": 67,
     "metadata": {},
     "output_type": "execute_result"
    }
   ],
   "source": [
    "a[4]"
   ]
  },
  {
   "cell_type": "code",
   "execution_count": 69,
   "id": "d5c1f177",
   "metadata": {},
   "outputs": [
    {
     "data": {
      "text/plain": [
       "'a'"
      ]
     },
     "execution_count": 69,
     "metadata": {},
     "output_type": "execute_result"
    }
   ],
   "source": [
    "a[-1]"
   ]
  },
  {
   "cell_type": "code",
   "execution_count": 6,
   "id": "e48fe9b7",
   "metadata": {},
   "outputs": [
    {
     "data": {
      "text/plain": [
       "bool"
      ]
     },
     "execution_count": 6,
     "metadata": {},
     "output_type": "execute_result"
    }
   ],
   "source": [
    "1<2\n",
    "type(1>2)"
   ]
  },
  {
   "cell_type": "code",
   "execution_count": 8,
   "id": "903f0d3a",
   "metadata": {},
   "outputs": [
    {
     "name": "stdout",
     "output_type": "stream",
     "text": [
      "False\n",
      "True\n"
     ]
    }
   ],
   "source": [
    "print(1>2)\n",
    "print(1<2)"
   ]
  },
  {
   "cell_type": "code",
   "execution_count": 74,
   "id": "3f9fd5cd",
   "metadata": {},
   "outputs": [
    {
     "data": {
      "text/plain": [
       "bool"
      ]
     },
     "execution_count": 74,
     "metadata": {},
     "output_type": "execute_result"
    }
   ],
   "source": [
    "var=True #the boolean 'True' and 'False' are case sentitive so make sure to put the majuscule at the beginning\n",
    "type (var)"
   ]
  },
  {
   "cell_type": "code",
   "execution_count": 77,
   "id": "158f7f51",
   "metadata": {},
   "outputs": [
    {
     "data": {
      "text/plain": [
       "12"
      ]
     },
     "execution_count": 77,
     "metadata": {},
     "output_type": "execute_result"
    }
   ],
   "source": [
    "int(12.8) #this function help change the type of variable from float to integer"
   ]
  },
  {
   "cell_type": "code",
   "execution_count": 84,
   "id": "caac42fb",
   "metadata": {},
   "outputs": [
    {
     "data": {
      "text/plain": [
       "10.0"
      ]
     },
     "execution_count": 84,
     "metadata": {},
     "output_type": "execute_result"
    }
   ],
   "source": [
    "float(\"10\") #this function help change the type of variable from integer to float, even if the number is in quotation"
   ]
  },
  {
   "cell_type": "code",
   "execution_count": 80,
   "id": "3a5a9353",
   "metadata": {},
   "outputs": [
    {
     "ename": "TypeError",
     "evalue": "can't convert complex to float",
     "output_type": "error",
     "traceback": [
      "\u001b[0;31m---------------------------------------------------------------------------\u001b[0m",
      "\u001b[0;31mTypeError\u001b[0m                                 Traceback (most recent call last)",
      "\u001b[0;32m/var/folders/03/qcrffvzd2hs3f0zb5y149hh00000gn/T/ipykernel_1670/2357860570.py\u001b[0m in \u001b[0;36m<module>\u001b[0;34m\u001b[0m\n\u001b[0;32m----> 1\u001b[0;31m \u001b[0mfloat\u001b[0m\u001b[0;34m(\u001b[0m\u001b[0;36m4\u001b[0m\u001b[0;34m+\u001b[0m\u001b[0;36m5j\u001b[0m\u001b[0;34m)\u001b[0m\u001b[0;34m\u001b[0m\u001b[0;34m\u001b[0m\u001b[0m\n\u001b[0m",
      "\u001b[0;31mTypeError\u001b[0m: can't convert complex to float"
     ]
    }
   ],
   "source": [
    "float(4+5j)"
   ]
  },
  {
   "cell_type": "code",
   "execution_count": 82,
   "id": "bc4cda18",
   "metadata": {},
   "outputs": [
    {
     "ename": "ValueError",
     "evalue": "could not convert string to float: 'nadia'",
     "output_type": "error",
     "traceback": [
      "\u001b[0;31m---------------------------------------------------------------------------\u001b[0m",
      "\u001b[0;31mValueError\u001b[0m                                Traceback (most recent call last)",
      "\u001b[0;32m/var/folders/03/qcrffvzd2hs3f0zb5y149hh00000gn/T/ipykernel_1670/1130216647.py\u001b[0m in \u001b[0;36m<module>\u001b[0;34m\u001b[0m\n\u001b[0;32m----> 1\u001b[0;31m \u001b[0mfloat\u001b[0m\u001b[0;34m(\u001b[0m\u001b[0;34m'nadia'\u001b[0m\u001b[0;34m)\u001b[0m\u001b[0;34m\u001b[0m\u001b[0;34m\u001b[0m\u001b[0m\n\u001b[0m",
      "\u001b[0;31mValueError\u001b[0m: could not convert string to float: 'nadia'"
     ]
    }
   ],
   "source": [
    "float('nadia')"
   ]
  },
  {
   "cell_type": "code",
   "execution_count": 85,
   "id": "4e71b9ec",
   "metadata": {},
   "outputs": [
    {
     "name": "stdout",
     "output_type": "stream",
     "text": [
      "Nadia\n"
     ]
    }
   ],
   "source": [
    "print(a)"
   ]
  },
  {
   "cell_type": "code",
   "execution_count": 86,
   "id": "7d916b08",
   "metadata": {},
   "outputs": [
    {
     "name": "stdout",
     "output_type": "stream",
     "text": [
      "True\n"
     ]
    }
   ],
   "source": [
    "print(var)"
   ]
  },
  {
   "cell_type": "code",
   "execution_count": 87,
   "id": "7ea51c17",
   "metadata": {},
   "outputs": [
    {
     "data": {
      "text/plain": [
       "'Nadia'"
      ]
     },
     "execution_count": 87,
     "metadata": {},
     "output_type": "execute_result"
    }
   ],
   "source": [
    "a #there are 2 ways to print a line of code: either by entring the variable, or by adding 'print' before the variable"
   ]
  },
  {
   "cell_type": "code",
   "execution_count": 88,
   "id": "35678dc3",
   "metadata": {},
   "outputs": [
    {
     "data": {
      "text/plain": [
       "True"
      ]
     },
     "execution_count": 88,
     "metadata": {},
     "output_type": "execute_result"
    }
   ],
   "source": [
    "var"
   ]
  },
  {
   "cell_type": "code",
   "execution_count": 16,
   "id": "476b7979",
   "metadata": {},
   "outputs": [
    {
     "name": "stdout",
     "output_type": "stream",
     "text": [
      "what is your name?:Nadia\n"
     ]
    }
   ],
   "source": [
    "name=input('what is your name?:') #an input helps the user put anything he wants in an empty cell box. but if we want to use that input in the future, we put that input in a variable, here the variable is called \"name\""
   ]
  },
  {
   "cell_type": "code",
   "execution_count": 17,
   "id": "70dddccf",
   "metadata": {},
   "outputs": [
    {
     "name": "stdout",
     "output_type": "stream",
     "text": [
      "Hello Nadia\n"
     ]
    }
   ],
   "source": [
    "print('Hello',name) #the variable we created with that input, helped us print the name previously stored in the variable"
   ]
  },
  {
   "cell_type": "code",
   "execution_count": 36,
   "id": "d1ec140b",
   "metadata": {},
   "outputs": [
    {
     "ename": "SyntaxError",
     "evalue": "invalid syntax (3850831721.py, line 6)",
     "output_type": "error",
     "traceback": [
      "\u001b[0;36m  File \u001b[0;32m\"/var/folders/03/qcrffvzd2hs3f0zb5y149hh00000gn/T/ipykernel_826/3850831721.py\"\u001b[0;36m, line \u001b[0;32m6\u001b[0m\n\u001b[0;31m    print('Hello', +name+, 'you are' +str(age)+ 'years old')\u001b[0m\n\u001b[0m                         ^\u001b[0m\n\u001b[0;31mSyntaxError\u001b[0m\u001b[0;31m:\u001b[0m invalid syntax\n"
     ]
    }
   ],
   "source": [
    "name= input('what is your name?: ')\n",
    "age= int(input('what is your age?: '))\n",
    "height= float(input('how tall are you?: '))\n",
    "\n",
    "print('Hello, your name is:', name)\n",
    "print('Hello', +name+, 'you are' +str(age)+ 'years old') #the error here is that I concatenate the variable which I musn't\n",
    "print('And you are' +str(height)+ 'cm tall')"
   ]
  },
  {
   "cell_type": "code",
   "execution_count": 38,
   "id": "801221ee",
   "metadata": {},
   "outputs": [
    {
     "name": "stdout",
     "output_type": "stream",
     "text": [
      "what is your name?: Nadia\n",
      "what is your age?: 30\n",
      "how tall are you?: 66.5\n"
     ]
    }
   ],
   "source": [
    "name= input('what is your name?: ')\n",
    "age= int(input('what is your age?: '))\n",
    "height= float(input('how tall are you?: '))"
   ]
  },
  {
   "cell_type": "code",
   "execution_count": 53,
   "id": "f5b46a42",
   "metadata": {},
   "outputs": [
    {
     "name": "stdout",
     "output_type": "stream",
     "text": [
      "Hello, your name is: Nadia\n",
      "Hello Nadia\n"
     ]
    }
   ],
   "source": [
    "print('Hello, your name is:', name)\n",
    "print('Hello '+name)"
   ]
  },
  {
   "cell_type": "code",
   "execution_count": 57,
   "id": "d1e8a4e0",
   "metadata": {},
   "outputs": [
    {
     "name": "stdout",
     "output_type": "stream",
     "text": [
      "Hello Nadia you are 30 years old\n",
      "Hello Nadia you are 30 years old\n"
     ]
    }
   ],
   "source": [
    "print('Hello', name, 'you are ' +str(age)+ ' years old')\n",
    "print('Hello '+name, 'you are ' +str(age)+ ' years old') #either you use the + sign or the , sign to concatenate."
   ]
  },
  {
   "cell_type": "code",
   "execution_count": 60,
   "id": "f022384c",
   "metadata": {},
   "outputs": [
    {
     "name": "stdout",
     "output_type": "stream",
     "text": [
      "Hello Nadia you are 30 years old and you are 66.5 cm tall\n"
     ]
    }
   ],
   "source": [
    "print('Hello '+name, 'you are ' +str(age)+ ' years old and you are ' +str(height)+ ' cm tall') #after and before a variable you can put a coma','. but Just use the coma , or the plus + don´t mix them"
   ]
  },
  {
   "cell_type": "code",
   "execution_count": 66,
   "id": "1d6f8ff9",
   "metadata": {},
   "outputs": [
    {
     "name": "stdout",
     "output_type": "stream",
     "text": [
      "31\n",
      "300\n"
     ]
    }
   ],
   "source": [
    "print(age+1)\n",
    "print(age*10)"
   ]
  },
  {
   "cell_type": "markdown",
   "id": "f79eb439",
   "metadata": {},
   "source": [
    "II. Data Structures"
   ]
  },
  {
   "cell_type": "code",
   "execution_count": 29,
   "id": "4e088b84",
   "metadata": {},
   "outputs": [
    {
     "name": "stdout",
     "output_type": "stream",
     "text": [
      "['Nadia', 'Joelle', 'Cedric', 'Frank', 'Chloé', 'Elie']\n",
      "Nadia\n",
      "Elie\n",
      "Frank\n",
      "Elie\n",
      "Frank\n"
     ]
    }
   ],
   "source": [
    "name_list=['Nadia', 'Joelle', 'Cedric', 'Frank', 'Chloé', 'Elie']\n",
    "print(name_list)\n",
    "print(name_list[0])\n",
    "print(name_list[-1])\n",
    "print(name_list[3])\n",
    "print(name_list[5])\n",
    "print(name_list[-3])"
   ]
  },
  {
   "cell_type": "code",
   "execution_count": 86,
   "id": "1e82f294",
   "metadata": {},
   "outputs": [
    {
     "name": "stdout",
     "output_type": "stream",
     "text": [
      "['Nadia', 'Joelle']\n",
      "['Nadia', 'Joelle', 'Cedric', 'Frank']\n",
      "['Nadia', 'Joelle', 'Cedric', 'Frank', 'Chloé']\n",
      "['Cedric', 'Frank', 'Chloé', 'Elie']\n"
     ]
    }
   ],
   "source": [
    "print(name_list[:2]) #gives the first 2 elements of the list\n",
    "print(name_list[:-2]) #gives the elements before (and not including) the -2 index of the list\n",
    "print(name_list[:-1]) #gives the elements starting before (and not including) the -1 indexe of the list\n",
    "print(name_list[2:]) #gives all the elements starting from index 2 to the end of the list"
   ]
  },
  {
   "cell_type": "code",
   "execution_count": 63,
   "id": "45c31657",
   "metadata": {},
   "outputs": [
    {
     "data": {
      "text/plain": [
       "['Cedric']"
      ]
     },
     "execution_count": 63,
     "metadata": {},
     "output_type": "execute_result"
    }
   ],
   "source": [
    "name_list[2:5:4] #output les valeurs comprises entre Index 2 et 5 en sautant de 3 positions après chaque valeur"
   ]
  },
  {
   "cell_type": "code",
   "execution_count": 60,
   "id": "5d8eeb0d",
   "metadata": {},
   "outputs": [
    {
     "name": "stdout",
     "output_type": "stream",
     "text": [
      "[50, 70, 30, 20, 90, 10, 50]\n",
      "[50, 70, 30, 20, 90, 10]\n",
      "[50, 30, 90, 50]\n",
      "[70, 20, 10]\n",
      "[50, 20, 50]\n"
     ]
    }
   ],
   "source": [
    "Lst = [50, 70, 30, 20, 90, 10, 50]\n",
    "print(Lst[::]) #ceci équivaut aussi a ceci print(Lst[-7::1]), et à ceci print(Lst[:])\n",
    "print(Lst[-7:-1])\n",
    "print(Lst[::2]) #output les valeurs en les sautant d'1e valeur a chaque fois ou en faisant un IndexJump de 2\n",
    "print(Lst[1:7:2]) #output les valeurs comprises entre Index 1 et 7 en sautant de 1 position après chaque valeur\n",
    "print(Lst[0:7:3]) #output les valeurs comprises entre Index 0 et 7 en sautant de 2 positions après chaque valeur"
   ]
  },
  {
   "cell_type": "code",
   "execution_count": 97,
   "id": "12269823",
   "metadata": {},
   "outputs": [
    {
     "name": "stdout",
     "output_type": "stream",
     "text": [
      "['Nadia', 'Joelle', 'Cedric', 'André', 'Chloé', 'Hélène']\n",
      "['Nadia', 'Joelle', 'Cedric', 'André', 'Chloé', 'Hélène']\n"
     ]
    }
   ],
   "source": [
    "name_list[3]='André' #if I want to modify or change the 4th name on the list\n",
    "print(name_list)\n",
    "name_list[-1]='Hélène' #if I want to modify or change the last name on the list\n",
    "print(name_list)"
   ]
  },
  {
   "cell_type": "code",
   "execution_count": 106,
   "id": "f09eab28",
   "metadata": {},
   "outputs": [
    {
     "name": "stdout",
     "output_type": "stream",
     "text": [
      "['Nadia', 'Joelle', 'Cedric', 'André', 'Chloé', 'Hélène']\n",
      "['Nadia', 'Joelle', 'Cedric', 'André']\n",
      "['Joelle', 'Cedric', 'André', 'Chloé']\n",
      "['Cedric']\n",
      "['Joelle', 'André']\n"
     ]
    }
   ],
   "source": [
    "print(name_list[:]) #it will print all the elements of the list\n",
    "print(name_list[0:4]) #same result if print(name_list[:4])\n",
    "print(name_list[1:5])\n",
    "print(name_list[2:3])\n",
    "print(name_list[1:5:2]) #output les valeurs comprises entre Index 1 et 5 en sautant de 2 positions après chaque valeur"
   ]
  },
  {
   "cell_type": "code",
   "execution_count": 107,
   "id": "12e9fa7a",
   "metadata": {},
   "outputs": [
    {
     "data": {
      "text/plain": [
       "['Nadia', 'Joelle', 'Cedric', 'André', 'Chloé']"
      ]
     },
     "execution_count": 107,
     "metadata": {},
     "output_type": "execute_result"
    }
   ],
   "source": [
    "name_list.remove(name_list[-1]) #it will remove the last element from the list\n",
    "name_list"
   ]
  },
  {
   "cell_type": "code",
   "execution_count": 109,
   "id": "548a9c12",
   "metadata": {},
   "outputs": [
    {
     "data": {
      "text/plain": [
       "['Nadia', 'Joelle', 'André', 'Chloé']"
      ]
     },
     "execution_count": 109,
     "metadata": {},
     "output_type": "execute_result"
    }
   ],
   "source": [
    "name_list.remove(name_list[2]) #it will remove the 3rd element from the list\n",
    "name_list"
   ]
  },
  {
   "cell_type": "code",
   "execution_count": 4,
   "id": "4489a327",
   "metadata": {},
   "outputs": [
    {
     "data": {
      "text/plain": [
       "['Nadia', 'Joelle', 'Cedric', 'Frank', 'Chloé']"
      ]
     },
     "execution_count": 4,
     "metadata": {},
     "output_type": "execute_result"
    }
   ],
   "source": [
    "name_list=['Nadia', 'Joelle', 'Cedric', 'Frank', 'Chloé', 'Elie']\n",
    "name_list.remove('Elie')\n",
    "name_list"
   ]
  },
  {
   "cell_type": "code",
   "execution_count": 5,
   "id": "f452a038",
   "metadata": {},
   "outputs": [
    {
     "data": {
      "text/plain": [
       "['Nadia', 'Joelle', 'Cedric', 'Frank']"
      ]
     },
     "execution_count": 5,
     "metadata": {},
     "output_type": "execute_result"
    }
   ],
   "source": [
    "name_list.pop() #it removes the last item of the list, unless you specify with an index\n",
    "name_list "
   ]
  },
  {
   "cell_type": "code",
   "execution_count": 7,
   "id": "0cb567f7",
   "metadata": {},
   "outputs": [
    {
     "data": {
      "text/plain": [
       "['Nadia', 'Joelle', 'Cedric', 'Chloé', 'Elie']"
      ]
     },
     "execution_count": 7,
     "metadata": {},
     "output_type": "execute_result"
    }
   ],
   "source": [
    "name_list=['Nadia', 'Joelle', 'Cedric', 'Frank', 'Chloé', 'Elie']\n",
    "name_list.pop(3) #it removes the index 3 or 4th element of the list which is 'Frank'\n",
    "name_list "
   ]
  },
  {
   "cell_type": "code",
   "execution_count": 6,
   "id": "a70cac3c",
   "metadata": {},
   "outputs": [
    {
     "data": {
      "text/plain": [
       "['Frank', 'Cedric', 'Joelle', 'Nadia']"
      ]
     },
     "execution_count": 6,
     "metadata": {},
     "output_type": "execute_result"
    }
   ],
   "source": [
    "name_list.reverse() #it reverses the list from end to start\n",
    "name_list"
   ]
  },
  {
   "cell_type": "code",
   "execution_count": 30,
   "id": "faf5ce7c",
   "metadata": {},
   "outputs": [
    {
     "data": {
      "text/plain": [
       "[34, 60.7, True, 'Data', 'Great']"
      ]
     },
     "execution_count": 30,
     "metadata": {},
     "output_type": "execute_result"
    }
   ],
   "source": [
    "my_list = [34, \"Great\", 60.7, True, \"Data\", \"Great\"]\n",
    "my_list.remove(\"Great\") #It will search and remove only the first occurrence of an item\n",
    "my_list"
   ]
  },
  {
   "cell_type": "code",
   "execution_count": 11,
   "id": "4fc957a2",
   "metadata": {},
   "outputs": [
    {
     "name": "stdout",
     "output_type": "stream",
     "text": [
      "600\n",
      "The minimum price is $600\n",
      "The minimum price is $600\n",
      "The minimum price is $600\n",
      "The maximum price is $1000\n"
     ]
    }
   ],
   "source": [
    "price_list = [900, 899, 600, 1000]\n",
    "print(min(price_list))\n",
    "print('The minimum price is $',min(price_list),sep='')\n",
    "print('The minimum price is $',str(min(price_list)),sep='')\n",
    "print('The minimum price is $' + str(min(price_list)),sep='') #is it necessary to string the number before printing it?\n",
    "print('The maximum price is $',max(price_list),sep='')"
   ]
  },
  {
   "cell_type": "code",
   "execution_count": null,
   "id": "3a8743c9",
   "metadata": {},
   "outputs": [],
   "source": []
  },
  {
   "cell_type": "markdown",
   "id": "89dacf23",
   "metadata": {},
   "source": [
    "III. TUPLES"
   ]
  },
  {
   "cell_type": "code",
   "execution_count": 27,
   "id": "bce6f333",
   "metadata": {},
   "outputs": [
    {
     "name": "stdout",
     "output_type": "stream",
     "text": [
      "There are 2 Great in my list\n",
      "There are 3 Nadia in my tuple\n"
     ]
    }
   ],
   "source": [
    "my_list = [34, \"Great\", 60.7, True, \"Data\", \"Great\"]\n",
    "print('There are',my_list.count('Great'),'Great in my list')\n",
    "\n",
    "my_tuple = ('Nadia','Chloé','Cedric','Nadia','Michel','Nadia')\n",
    "print('There are',my_tuple.count('Nadia'),'Nadia in my tuple')"
   ]
  },
  {
   "cell_type": "code",
   "execution_count": 13,
   "id": "1e307cd3",
   "metadata": {},
   "outputs": [
    {
     "name": "stdout",
     "output_type": "stream",
     "text": [
      "1\n",
      "0\n"
     ]
    }
   ],
   "source": [
    "print(my_list.index(\"Great\")) #it searches and give the index position of the 1st occurence of the value\n",
    "print(my_tuple.index('Nadia')) #it searches and give the index position of the 1st occurence of the value"
   ]
  },
  {
   "cell_type": "code",
   "execution_count": 16,
   "id": "dbca8aac",
   "metadata": {},
   "outputs": [
    {
     "ename": "TypeError",
     "evalue": "'<' not supported between instances of 'str' and 'int'",
     "output_type": "error",
     "traceback": [
      "\u001b[0;31m---------------------------------------------------------------------------\u001b[0m",
      "\u001b[0;31mTypeError\u001b[0m                                 Traceback (most recent call last)",
      "\u001b[0;32m/var/folders/03/qcrffvzd2hs3f0zb5y149hh00000gn/T/ipykernel_31938/3578819855.py\u001b[0m in \u001b[0;36m<module>\u001b[0;34m\u001b[0m\n\u001b[0;32m----> 1\u001b[0;31m \u001b[0mprint\u001b[0m\u001b[0;34m(\u001b[0m\u001b[0msorted\u001b[0m\u001b[0;34m(\u001b[0m\u001b[0mmy_list\u001b[0m\u001b[0;34m)\u001b[0m\u001b[0;34m)\u001b[0m\u001b[0;34m\u001b[0m\u001b[0;34m\u001b[0m\u001b[0m\n\u001b[0m",
      "\u001b[0;31mTypeError\u001b[0m: '<' not supported between instances of 'str' and 'int'"
     ]
    }
   ],
   "source": [
    "print(sorted(my_list)) #you can't sort/trier les chiffres(nombres) et les lettres(texte)"
   ]
  },
  {
   "cell_type": "code",
   "execution_count": 19,
   "id": "72eb0423",
   "metadata": {},
   "outputs": [
    {
     "ename": "AttributeError",
     "evalue": "'tuple' object has no attribute 'pop'",
     "output_type": "error",
     "traceback": [
      "\u001b[0;31m---------------------------------------------------------------------------\u001b[0m",
      "\u001b[0;31mAttributeError\u001b[0m                            Traceback (most recent call last)",
      "\u001b[0;32m/var/folders/03/qcrffvzd2hs3f0zb5y149hh00000gn/T/ipykernel_10059/1166951230.py\u001b[0m in \u001b[0;36m<module>\u001b[0;34m\u001b[0m\n\u001b[1;32m      1\u001b[0m \u001b[0mX\u001b[0m\u001b[0;34m=\u001b[0m\u001b[0;34m(\u001b[0m\u001b[0;36m20\u001b[0m\u001b[0;34m,\u001b[0m\u001b[0;36m23\u001b[0m\u001b[0;34m,\u001b[0m\u001b[0;34m-\u001b[0m\u001b[0;36m50\u001b[0m\u001b[0;34m,\u001b[0m\u001b[0;36m5.6\u001b[0m\u001b[0;34m,\u001b[0m\u001b[0;36m98\u001b[0m\u001b[0;34m)\u001b[0m\u001b[0;34m\u001b[0m\u001b[0;34m\u001b[0m\u001b[0m\n\u001b[0;32m----> 2\u001b[0;31m \u001b[0mX\u001b[0m\u001b[0;34m.\u001b[0m\u001b[0mpop\u001b[0m\u001b[0;34m(\u001b[0m\u001b[0;34m)\u001b[0m\u001b[0;34m\u001b[0m\u001b[0;34m\u001b[0m\u001b[0m\n\u001b[0m\u001b[1;32m      3\u001b[0m \u001b[0mprint\u001b[0m\u001b[0;34m(\u001b[0m\u001b[0mX\u001b[0m\u001b[0;34m)\u001b[0m \u001b[0;31m#you can't modify, delete or pop any value in a tuple unlike lists where you can\u001b[0m\u001b[0;34m\u001b[0m\u001b[0;34m\u001b[0m\u001b[0m\n\u001b[1;32m      4\u001b[0m \u001b[0mmy_list\u001b[0m\u001b[0;34m.\u001b[0m\u001b[0mpop\u001b[0m\u001b[0;34m(\u001b[0m\u001b[0;36m2\u001b[0m\u001b[0;34m)\u001b[0m\u001b[0;34m\u001b[0m\u001b[0;34m\u001b[0m\u001b[0m\n\u001b[1;32m      5\u001b[0m \u001b[0mprint\u001b[0m\u001b[0;34m(\u001b[0m\u001b[0mmy_list\u001b[0m\u001b[0;34m)\u001b[0m\u001b[0;34m\u001b[0m\u001b[0;34m\u001b[0m\u001b[0m\n",
      "\u001b[0;31mAttributeError\u001b[0m: 'tuple' object has no attribute 'pop'"
     ]
    }
   ],
   "source": [
    "X=(20,23,-50,5.6,98)\n",
    "X.pop()\n",
    "print(X) #you can't modify, delete or pop any value in a tuple unlike lists where you can"
   ]
  },
  {
   "cell_type": "code",
   "execution_count": 17,
   "id": "2dbcb17a",
   "metadata": {},
   "outputs": [
    {
     "name": "stdout",
     "output_type": "stream",
     "text": [
      "['Cedric', 'Chloé', 'Michel', 'Nadia', 'Nadia', 'Nadia']\n"
     ]
    }
   ],
   "source": [
    "print(sorted(my_tuple)) #you can sort either numeric values or string values, not both"
   ]
  },
  {
   "cell_type": "code",
   "execution_count": 20,
   "id": "c0f28227",
   "metadata": {},
   "outputs": [
    {
     "name": "stdout",
     "output_type": "stream",
     "text": [
      "[34, 'Great', True, 'Data', 'Great']\n"
     ]
    }
   ],
   "source": [
    "my_list.pop(2) #it pops out 60.7\n",
    "print(my_list)"
   ]
  },
  {
   "cell_type": "markdown",
   "id": "da0b49c4",
   "metadata": {},
   "source": [
    "IV. DICTIONNARY"
   ]
  },
  {
   "cell_type": "code",
   "execution_count": 22,
   "id": "96787151",
   "metadata": {},
   "outputs": [
    {
     "name": "stdout",
     "output_type": "stream",
     "text": [
      "Nadia\n",
      "1500\n"
     ]
    }
   ],
   "source": [
    "my_dictionnary={1:'Nadia',2:'Cedric',3:'Chloé'}\n",
    "my_balance={'Cedric':50327,'Nadia':31237,'Chloé':1500}\n",
    "\n",
    "print(my_dictionnary[1]) #it will give me the value of the key number (1) entered\n",
    "print(my_balance['Chloé']) #it will give me the value of the key number (Chloé) entered"
   ]
  },
  {
   "cell_type": "code",
   "execution_count": 25,
   "id": "710ecec2",
   "metadata": {},
   "outputs": [
    {
     "data": {
      "text/plain": [
       "{'Cedric': 50327, 'Nadia': 31237, 'Chloé': 1500, 'Michel': 150450}"
      ]
     },
     "execution_count": 25,
     "metadata": {},
     "output_type": "execute_result"
    }
   ],
   "source": [
    "my_balance['Michel']=150450 #this is how you append/add a key and a value in a dictionnary. it will look for Michel in the dictionnary, and if it did not find it, it will add it\n",
    "my_balance"
   ]
  },
  {
   "cell_type": "code",
   "execution_count": 26,
   "id": "4ba891c9",
   "metadata": {},
   "outputs": [
    {
     "data": {
      "text/plain": [
       "{'Cedric': 50327, 'Nadia': 30500, 'Chloé': 1500, 'Michel': 150450}"
      ]
     },
     "execution_count": 26,
     "metadata": {},
     "output_type": "execute_result"
    }
   ],
   "source": [
    "my_balance['Nadia']=30500 #this is how you modify/change a value to an existing key in a dictionnary.\n",
    "my_balance"
   ]
  },
  {
   "cell_type": "code",
   "execution_count": 42,
   "id": "d4f3714a",
   "metadata": {},
   "outputs": [
    {
     "name": "stdout",
     "output_type": "stream",
     "text": [
      "{'Name list': ['Nadia', 'Joelle', 'Cedric', 'Frank', 'Chloé', 'Elie'], 'Courses': [34, 60.7, True, 'Data', 'Great']}\n"
     ]
    }
   ],
   "source": [
    "#when you have multiple lists in a dictionnary, how do you get a value of a specific key?\n",
    "list_dictionnary = {'Name list': name_list, 'Courses': my_list}\n",
    "print(list_dictionnary)"
   ]
  },
  {
   "cell_type": "code",
   "execution_count": 35,
   "id": "b81562aa",
   "metadata": {},
   "outputs": [
    {
     "data": {
      "text/plain": [
       "'Data'"
      ]
     },
     "execution_count": 35,
     "metadata": {},
     "output_type": "execute_result"
    }
   ],
   "source": [
    "list_dictionnary = {'Name list': name_list, 'Courses': my_list}\n",
    "list_dictionnary['Courses'][3] #this is how we get a value of a specific key using index"
   ]
  },
  {
   "cell_type": "code",
   "execution_count": 40,
   "id": "db600e11",
   "metadata": {},
   "outputs": [
    {
     "data": {
      "text/plain": [
       "dict"
      ]
     },
     "execution_count": 40,
     "metadata": {},
     "output_type": "execute_result"
    }
   ],
   "source": [
    "type(my_balance)"
   ]
  },
  {
   "cell_type": "code",
   "execution_count": 43,
   "id": "79521998",
   "metadata": {},
   "outputs": [
    {
     "data": {
      "text/plain": [
       "[34, 60.7, True, 'Data', 'Great']"
      ]
     },
     "execution_count": 43,
     "metadata": {},
     "output_type": "execute_result"
    }
   ],
   "source": [
    "list_dictionnary.pop('Courses')"
   ]
  },
  {
   "cell_type": "markdown",
   "id": "6fbb1de4",
   "metadata": {},
   "source": [
    "V. SETS"
   ]
  },
  {
   "cell_type": "code",
   "execution_count": 34,
   "id": "0fdcf2dd",
   "metadata": {},
   "outputs": [
    {
     "name": "stdout",
     "output_type": "stream",
     "text": [
      "This is a <class 'set'>\n",
      "{'b', 'd', 'a', 'c'}\n",
      "['a', 'b', 'c', 'd']\n"
     ]
    }
   ],
   "source": [
    "my_example={'a','b','c','d','c','a'}\n",
    "print('This is a', type(my_example))\n",
    "print(my_example) #this only prints each element of the set once, without repeating it. AND it will print first the 1st string which is alone before printing the elements which are multiple\n",
    "print(sorted(my_example)) #it prints each element distinct of the set sorted"
   ]
  },
  {
   "cell_type": "code",
   "execution_count": 35,
   "id": "93419034",
   "metadata": {},
   "outputs": [
    {
     "data": {
      "text/plain": [
       "'b'"
      ]
     },
     "execution_count": 35,
     "metadata": {},
     "output_type": "execute_result"
    }
   ],
   "source": [
    "my_example.pop()"
   ]
  },
  {
   "cell_type": "code",
   "execution_count": 41,
   "id": "50dc4c1e",
   "metadata": {},
   "outputs": [
    {
     "name": "stdout",
     "output_type": "stream",
     "text": [
      "{1, 2, 3, 5, 6, 7, 8, 9}\n",
      "[1, 2, 3, 5, 6, 7, 8, 9]\n"
     ]
    }
   ],
   "source": [
    "my_set={3,5,2,1,3,1,6,5,7,8,9}\n",
    "print(my_set) #with numbers, it will print only one of each number sorted du plus petit au plus grand\n",
    "print(sorted(my_set)) #same result as above since it already sorts out the numbers"
   ]
  },
  {
   "cell_type": "markdown",
   "id": "40fc39ed",
   "metadata": {},
   "source": [
    "VI. CONDITIONAL STATEMENTS"
   ]
  },
  {
   "cell_type": "code",
   "execution_count": 42,
   "id": "25798c21",
   "metadata": {},
   "outputs": [
    {
     "name": "stdout",
     "output_type": "stream",
     "text": [
      "Bye\n"
     ]
    }
   ],
   "source": [
    "a = 50\n",
    "b = 10\n",
    "if a<b:\n",
    " print(\"Hi\")\n",
    "else:\n",
    " print(\"Bye\")"
   ]
  },
  {
   "cell_type": "code",
   "execution_count": 54,
   "id": "4abdf386",
   "metadata": {},
   "outputs": [
    {
     "name": "stdout",
     "output_type": "stream",
     "text": [
      "it's greater than 0\n"
     ]
    }
   ],
   "source": [
    "a = 5\n",
    "b = 10\n",
    "if a<b:\n",
    "    if a>0:\n",
    "        print(\"it's greater than 0\")\n",
    "    else:\n",
    "        print (\"it's less than 0\")\n",
    "else:\n",
    " print(\"Bye\")"
   ]
  },
  {
   "cell_type": "code",
   "execution_count": 55,
   "id": "1c5f592a",
   "metadata": {},
   "outputs": [
    {
     "name": "stdout",
     "output_type": "stream",
     "text": [
      "Number is greater than 50\n"
     ]
    }
   ],
   "source": [
    "num = 100\n",
    "if (num == 0):\n",
    "    print(\"Number is Zero\")\n",
    "elif (num > 5):\n",
    "    print(\"Number is greater than 50\")\n",
    "else:\n",
    "    print(\"Number is smaller than 50\")"
   ]
  },
  {
   "cell_type": "code",
   "execution_count": 56,
   "id": "73ecea79",
   "metadata": {},
   "outputs": [
    {
     "name": "stdout",
     "output_type": "stream",
     "text": [
      "enter your useridnalika\n",
      "enter your passwordpassword\n",
      "Please check your userid and password\n"
     ]
    }
   ],
   "source": [
    "string1 = str(input(\"enter your userid\"))\n",
    "string2 = str(input(\"enter your password\"))\n",
    "\n",
    "if (string1 == \"greatlearning\" and string2 == \"simplelearning123\"):\n",
    "    print(\"Succefully logged in!!\")\n",
    "else :\n",
    "    print(\"Please check your userid and password\")"
   ]
  },
  {
   "cell_type": "code",
   "execution_count": 46,
   "id": "2d539c4d",
   "metadata": {},
   "outputs": [
    {
     "ename": "NameError",
     "evalue": "name 'TRUE' is not defined",
     "output_type": "error",
     "traceback": [
      "\u001b[0;31m---------------------------------------------------------------------------\u001b[0m",
      "\u001b[0;31mNameError\u001b[0m                                 Traceback (most recent call last)",
      "\u001b[0;32m/var/folders/03/qcrffvzd2hs3f0zb5y149hh00000gn/T/ipykernel_10059/913859044.py\u001b[0m in \u001b[0;36m<module>\u001b[0;34m\u001b[0m\n\u001b[0;32m----> 1\u001b[0;31m \u001b[0ma\u001b[0m\u001b[0;34m=\u001b[0m\u001b[0mb\u001b[0m\u001b[0;34m=\u001b[0m\u001b[0mTRUE\u001b[0m\u001b[0;34m\u001b[0m\u001b[0;34m\u001b[0m\u001b[0m\n\u001b[0m\u001b[1;32m      2\u001b[0m \u001b[0;32mif\u001b[0m \u001b[0ma\u001b[0m\u001b[0;34m==\u001b[0m\u001b[0mb\u001b[0m\u001b[0;34m:\u001b[0m\u001b[0;34m\u001b[0m\u001b[0;34m\u001b[0m\u001b[0m\n\u001b[1;32m      3\u001b[0m     \u001b[0mprint\u001b[0m\u001b[0;34m(\u001b[0m\u001b[0;34m'a=b'\u001b[0m\u001b[0;34m)\u001b[0m\u001b[0;34m\u001b[0m\u001b[0;34m\u001b[0m\u001b[0m\n\u001b[1;32m      4\u001b[0m \u001b[0;32melse\u001b[0m\u001b[0;34m:\u001b[0m\u001b[0;34m\u001b[0m\u001b[0;34m\u001b[0m\u001b[0m\n\u001b[1;32m      5\u001b[0m     \u001b[0mprint\u001b[0m\u001b[0;34m(\u001b[0m\u001b[0;34m'a!=b'\u001b[0m\u001b[0;34m)\u001b[0m\u001b[0;34m\u001b[0m\u001b[0;34m\u001b[0m\u001b[0m\n",
      "\u001b[0;31mNameError\u001b[0m: name 'TRUE' is not defined"
     ]
    }
   ],
   "source": [
    "a=b=TRUE\n",
    "if a==b:\n",
    "    print('a=b')\n",
    "else:\n",
    "    print('a!=b')"
   ]
  },
  {
   "cell_type": "markdown",
   "id": "b40e9b8b",
   "metadata": {},
   "source": [
    "VII. LOOPS"
   ]
  },
  {
   "cell_type": "markdown",
   "id": "47ebc0ff",
   "metadata": {},
   "source": [
    "c'est comme si je commence a comprendre.\n",
    "FOR LOOP is OK,\n",
    "WHILE LOOP is NOK"
   ]
  },
  {
   "cell_type": "code",
   "execution_count": 75,
   "id": "0c253054",
   "metadata": {},
   "outputs": [
    {
     "name": "stdout",
     "output_type": "stream",
     "text": [
      "The sum is 2068\n"
     ]
    }
   ],
   "source": [
    "#OK\n",
    "# List of numbers\n",
    "numbers = [66, 545, 223, 438, 224, 122, 125, 214, 111]\n",
    "\n",
    "# variable to store the sum\n",
    "sum = 0\n",
    "\n",
    "# iterate over the list\n",
    "for val in numbers:\n",
    "    sum = sum+val\n",
    "\n",
    "# Output: The sum is 48\n",
    "print(\"The sum is\", sum)"
   ]
  },
  {
   "cell_type": "code",
   "execution_count": 1,
   "id": "80a77baa",
   "metadata": {},
   "outputs": [
    {
     "name": "stdout",
     "output_type": "stream",
     "text": [
      "Jack\n",
      "Summer\n",
      "June\n"
     ]
    }
   ],
   "source": [
    "#OK, i prends uniquement la valeur des KEYS dans un dictionnaire\n",
    "name_age = {'Jack':20, 'Summer':25, 'June':30}\n",
    "for i in name_age:\n",
    "  print(i)  "
   ]
  },
  {
   "cell_type": "code",
   "execution_count": 62,
   "id": "e3f68178",
   "metadata": {},
   "outputs": [
    {
     "name": "stdout",
     "output_type": "stream",
     "text": [
      "The sum of first 9 integers :  45\n"
     ]
    }
   ],
   "source": [
    "a = 0;\n",
    "b = 0\n",
    "while (a < 10):\n",
    "     b = b + a\n",
    "     a = a + 1\n",
    "else :\n",
    "     print('The sum of first 9 integers : ',b) "
   ]
  },
  {
   "cell_type": "code",
   "execution_count": 57,
   "id": "c1799a59",
   "metadata": {},
   "outputs": [
    {
     "name": "stdout",
     "output_type": "stream",
     "text": [
      "The sum is = 15\n"
     ]
    }
   ],
   "source": [
    "sum = 0\n",
    "i=1\n",
    "while i<6:\n",
    "  sum = sum + i\n",
    "  i += 1\n",
    "print(\"The sum is =\", sum)"
   ]
  },
  {
   "cell_type": "code",
   "execution_count": 58,
   "id": "132d9011",
   "metadata": {},
   "outputs": [
    {
     "name": "stdout",
     "output_type": "stream",
     "text": [
      "i is = 1\n",
      "i is = 2\n",
      "i is = 3\n",
      "i is = 4\n",
      "i is = 5\n"
     ]
    }
   ],
   "source": [
    "i=1\n",
    "while i<6:\n",
    "  print(\"i is =\", i)\n",
    "  i+=1"
   ]
  },
  {
   "cell_type": "code",
   "execution_count": 59,
   "id": "a09aba12",
   "metadata": {},
   "outputs": [
    {
     "name": "stdout",
     "output_type": "stream",
     "text": [
      "The multiplication is = 120\n"
     ]
    }
   ],
   "source": [
    "#OK\n",
    "list_1 = [1, 2, 3, 4, 5]\n",
    "mul = 1\n",
    "for i in list_1:\n",
    "  mul = mul*i\n",
    "print(\"The multiplication is =\", mul)"
   ]
  },
  {
   "cell_type": "raw",
   "id": "84539fac",
   "metadata": {},
   "source": [
    "Here, the variable \"mul\" is used to iterate over the elements of the list_1(1,2,3,4,5), which is a sequence of numbers from 1 to 5 (5 is inclusive). For each iteration of the for loop, Python will multiply the value stored in the variable i to the variable mul.\n",
    "Iteration 1: mul = 1 * i = 1 * 1 = 1\n",
    "Iteration 2: mul = 1 * i = 1 * 2 = 2\n",
    "Iteration 3: mul = 2 * i = 2 * 3 = 6\n",
    "Iteration 4: mul = 6 * i = 6 * 4 = 24\n",
    "Iteration 5: mul = 24 * i = 24 * 5 = 120\n",
    "Once all the iterations are completed, the final value of the variable sum will be printed."
   ]
  },
  {
   "cell_type": "code",
   "execution_count": 60,
   "id": "1d2c8e5c",
   "metadata": {},
   "outputs": [
    {
     "name": "stdout",
     "output_type": "stream",
     "text": [
      "i = 1\n",
      "i = 2\n",
      "i = 3\n",
      "i = 4\n",
      "i = 5\n"
     ]
    }
   ],
   "source": [
    "#OK\n",
    "list_1 = [1, 2, 3, 4, 5]\n",
    "for i in list_1:\n",
    "  print(\"i =\", i)"
   ]
  },
  {
   "cell_type": "markdown",
   "id": "e78e5a21",
   "metadata": {},
   "source": [
    "# explications loop\n",
    "## 1. range"
   ]
  },
  {
   "cell_type": "raw",
   "id": "f908a14b",
   "metadata": {},
   "source": [
    "The range() function is used to generate a sequence of numbers equidistant from each other. It takes 3 parameters, start, stop, and step. Stop is a mandatory parameter and by default, start is set to 0 and step is set to 1. So, range(6) will give the same output as range(0,6)."
   ]
  },
  {
   "cell_type": "code",
   "execution_count": 73,
   "id": "6149b7d4",
   "metadata": {},
   "outputs": [
    {
     "name": "stdout",
     "output_type": "stream",
     "text": [
      "[0, 1, 2, 3, 4, 5]\n",
      "range(0, 6)\n",
      "range(0, 6)\n",
      "[5, 10, 15, 20]\n"
     ]
    }
   ],
   "source": [
    "#la function \"list\" est nécessaire pour afficher les résultats de range\n",
    "print(list(range(0,6)))#comme pour les index, output les valeurs comprises entre 0 et 6 non-inclus\n",
    "print(range(6))\n",
    "print(range(0,6))\n",
    "print(list(range(5,25,5))) #comme pour les index, output les valeurs comprises entre 5 et 25 non-inclus, en les sautant de 4 positions ou en prenant les valeurs multiples de 5"
   ]
  },
  {
   "cell_type": "markdown",
   "id": "ed69c539",
   "metadata": {},
   "source": [
    "## 2. for loop"
   ]
  },
  {
   "cell_type": "raw",
   "id": "49762515",
   "metadata": {},
   "source": [
    "The range() function returns a sequence of numbers, starting from 0 by default, and increments by 1 (by default), and ends at a mandatory specified number."
   ]
  },
  {
   "cell_type": "code",
   "execution_count": 70,
   "id": "84787dd0",
   "metadata": {},
   "outputs": [
    {
     "name": "stdout",
     "output_type": "stream",
     "text": [
      "i = 0\n",
      "i = 1\n",
      "i = 2\n",
      "i = 3\n",
      "i = 4\n",
      "i = 5\n"
     ]
    }
   ],
   "source": [
    "for i in range(0,6): #meaning that, for every value comprise between 0 and 6, 'i' will tke each of these value and print an output\n",
    "    print('i =', i)\n",
    "    \n",
    "#il faut toujours mettre le ':' et faire l'indentation quand on passe à la ligne\n",
    "#mais, pourquoi on ne dit pas \"in list(range(0,6))\" ?"
   ]
  },
  {
   "cell_type": "code",
   "execution_count": 74,
   "id": "f1cdc315",
   "metadata": {},
   "outputs": [
    {
     "name": "stdout",
     "output_type": "stream",
     "text": [
      "10\n"
     ]
    }
   ],
   "source": [
    "sum = 0\n",
    "for number in range(1,5):\n",
    "    sum = sum + number\n",
    "print(sum)"
   ]
  },
  {
   "cell_type": "raw",
   "id": "fe450a2d",
   "metadata": {},
   "source": [
    "Here, the variable \"number\" is used to iterate over the elements of the range(1,5), which is a sequence of numbers from 1 to 4 (as 5 is exclusive). For each iteration of the for loop, Python will add the value stored in the variable number to the variable sum.\n",
    "Iteration 1: sum = 0 + number = 0 + 1 = 1\n",
    "Iteration 2: sum = 1 + number = 1 + 2 = 3\n",
    "Iteration 3: sum = 3 + number = 3 + 3 = 6\n",
    "Iteration 4: sum = 6 + number = 6 + 4 = 10\n",
    "Once all the iterations are completed, the final value of the variable sum will be printed."
   ]
  },
  {
   "cell_type": "code",
   "execution_count": 79,
   "id": "6a0237b9",
   "metadata": {},
   "outputs": [
    {
     "name": "stdout",
     "output_type": "stream",
     "text": [
      "apple\n",
      "banana\n",
      "cherry\n"
     ]
    }
   ],
   "source": [
    "fruits = [\"apple\", \"banana\", \"cherry\"]\n",
    "for i in fruits:\n",
    "  print(i)"
   ]
  },
  {
   "cell_type": "markdown",
   "id": "4e67bd93",
   "metadata": {},
   "source": [
    "## 3. while loop"
   ]
  },
  {
   "cell_type": "code",
   "execution_count": 76,
   "id": "4439f2bb",
   "metadata": {},
   "outputs": [
    {
     "name": "stdout",
     "output_type": "stream",
     "text": [
      "1\n",
      "2\n",
      "3\n",
      "4\n",
      "5\n"
     ]
    }
   ],
   "source": [
    "x = [1, 2, 3, 4, 5]\n",
    "while x:\n",
    "  print(x.pop(0))"
   ]
  },
  {
   "cell_type": "raw",
   "id": "93d0a209",
   "metadata": {},
   "source": [
    "The length of the variable x is 5 so loop will be executed 5 times. Following will be the operation during each loop,\n",
    "\n",
    "iteration1: x=[1, 2, 3, 4, 5] with pop(0) the element of the list with index 0 will get pop out and printed as 1\n",
    "iteration1: x=[2, 3, 4, 5] with pop(0) the element of the list with index 0 will get pop out and printed as 2\n",
    "iteration1: x=[3, 4, 5] with pop(0) the element of the list with index 0 will get pop out and printed as 3\n",
    "iteration1: x=[4, 5] with pop(0) the element of the list with index 0 will get pop out and printed as 4\n",
    "iteration1: x=[5] with pop(0) the element of the list with index 0 will get pop out and printed as 5"
   ]
  },
  {
   "cell_type": "code",
   "execution_count": 77,
   "id": "47d8f86d",
   "metadata": {},
   "outputs": [
    {
     "name": "stdout",
     "output_type": "stream",
     "text": [
      "1\n",
      "2\n",
      "3\n",
      "4\n",
      "5\n"
     ]
    }
   ],
   "source": [
    "x = [1, 2, 3, 4, 5]\n",
    "while x:\n",
    "  print(x.pop(0))"
   ]
  },
  {
   "cell_type": "raw",
   "id": "690fb3bc",
   "metadata": {},
   "source": [
    "The initial value of variable \"i\" is 5 and during every iteration of while loop, its value will be subtracted by 1. So, for the first loop, it will be 5 then 4, 3, 2, 1. After five iterations, the value of the variable \"i\" will be 0. At this point, the condition of the while loop will not be satisfied and the loop will terminate. Hence, the given loop will run for 5 iterations."
   ]
  },
  {
   "cell_type": "code",
   "execution_count": null,
   "id": "bfff3403",
   "metadata": {},
   "outputs": [],
   "source": [
    "name = str(input('Enter your name: '))"
   ]
  },
  {
   "cell_type": "code",
   "execution_count": null,
   "id": "f9b93ed6",
   "metadata": {},
   "outputs": [],
   "source": []
  },
  {
   "cell_type": "markdown",
   "id": "4fec638d",
   "metadata": {},
   "source": [
    "VIII. BREAK STATEMENTS"
   ]
  },
  {
   "cell_type": "raw",
   "id": "4bc8c3b8",
   "metadata": {},
   "source": [
    "rien compris non plus"
   ]
  },
  {
   "cell_type": "code",
   "execution_count": 63,
   "id": "23119647",
   "metadata": {},
   "outputs": [
    {
     "name": "stdout",
     "output_type": "stream",
     "text": [
      "1\n",
      "2\n",
      "3\n"
     ]
    }
   ],
   "source": [
    "list_1 = [1, 2, 3, 4, 5]\n",
    "for val in list_1:\n",
    "  if val == 4:\n",
    "    break\n",
    "  print(val)"
   ]
  },
  {
   "cell_type": "code",
   "execution_count": null,
   "id": "fcc34fbb",
   "metadata": {},
   "outputs": [],
   "source": []
  }
 ],
 "metadata": {
  "kernelspec": {
   "display_name": "Python 3 (ipykernel)",
   "language": "python",
   "name": "python3"
  },
  "language_info": {
   "codemirror_mode": {
    "name": "ipython",
    "version": 3
   },
   "file_extension": ".py",
   "mimetype": "text/x-python",
   "name": "python",
   "nbconvert_exporter": "python",
   "pygments_lexer": "ipython3",
   "version": "3.9.13"
  }
 },
 "nbformat": 4,
 "nbformat_minor": 5
}
